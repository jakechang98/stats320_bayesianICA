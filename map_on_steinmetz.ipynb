{
  "cells": [
    {
      "cell_type": "markdown",
      "metadata": {
        "id": "JsEk5dm7yBVL"
      },
      "source": [
        "# MAP on Steinmetz\n",
        "We run our algorithm on the Steinmetz dataset, with an anatomically inspired connectivity matrix."
      ]
    },
    {
      "cell_type": "markdown",
      "metadata": {
        "id": "QlbWH3YXyqjT"
      },
      "source": [
        "## Load libraries"
      ]
    },
    {
      "cell_type": "code",
      "execution_count": 1,
      "metadata": {
        "colab": {
          "base_uri": "https://localhost:8080/"
        },
        "id": "QwQxQT9qjN1M",
        "outputId": "4e8209da-587d-4a78-c4a0-c8acadae7960"
      },
      "outputs": [
        {
          "name": "stdout",
          "output_type": "stream",
          "text": [
            "Mounted at /content/drive\n"
          ]
        }
      ],
      "source": [
        "from google.colab import drive\n",
        "drive.mount('/content/drive')"
      ]
    },
    {
      "cell_type": "code",
      "execution_count": 2,
      "metadata": {
        "id": "LKbqa7SjyUQw"
      },
      "outputs": [],
      "source": [
        "import torch\n",
        "import networkx as nx\n",
        "import numpy as np\n",
        "import matplotlib.pyplot as plt\n",
        "import random\n",
        "import numpy as np\n",
        "\n",
        "from tqdm.auto import trange\n",
        "\n",
        "from scipy.spatial import distance\n",
        "from scipy.stats import pearsonr\n",
        "from scipy.optimize import linear_sum_assignment\n",
        "\n",
        "import pandas as pd\n",
        "\n",
        "import torch.nn as nn\n",
        "import torch.nn.functional as F\n",
        "import torch.optim as optim\n",
        "\n",
        "from torch.distributions.laplace import Laplace\n",
        "from torch.distributions.multivariate_normal import MultivariateNormal\n",
        "from torch.distributions.normal import Normal\n",
        "from torch.distributions.dirichlet import Dirichlet\n",
        "from torch.distributions.gamma import Gamma\n",
        "from torch.distributions.exponential import Exponential\n",
        "from torch.distributions.bernoulli import Bernoulli\n",
        "\n",
        "def seed_everything(seed: int):\n",
        "    \"\"\"Sets the seed for generating random numbers in PyTorch, numpy and\n",
        "    Python.\n",
        "\n",
        "    Args:\n",
        "        seed (int): The desired seed.\n",
        "    \"\"\"\n",
        "    random.seed(seed)\n",
        "    np.random.seed(seed)\n",
        "    torch.manual_seed(seed)\n",
        "    torch.cuda.manual_seed_all(seed)"
      ]
    },
    {
      "cell_type": "code",
      "execution_count": 3,
      "metadata": {
        "id": "M4iMxf9GzOS7"
      },
      "outputs": [],
      "source": [
        "def nx_to_laplacian(g, alpha=0.5):\n",
        "  \"\"\"\n",
        "  alpha: float, controls how much we augment the diagonal of the graph Laplacian\n",
        "  \"\"\"\n",
        "  adj_matrix = nx.convert_matrix.to_numpy_array(g)\n",
        "  deg = np.sum(adj_matrix, axis=1)\n",
        "  lap = np.diag(alpha + deg) - adj_matrix\n",
        "  return torch.from_numpy(lap).float()"
      ]
    },
    {
      "cell_type": "code",
      "execution_count": 4,
      "metadata": {
        "id": "grdHvNJWC2Lo"
      },
      "outputs": [],
      "source": [
        "def initialize_model(K, N, T, g, sigma=0.01, random_seed=0, mask=True, alpha=0.5):\n",
        "  \"\"\"\n",
        "  This function initializes our starting point for MAP estimation on L, D, A\n",
        "\n",
        "  K : number of factors\n",
        "  N: number of neurons\n",
        "  T: number of time steps\n",
        "  g: the base graph (with N neurons)\n",
        "  \"\"\"\n",
        "  seed_everything(random_seed)\n",
        "  S = Laplace(0, 1/np.sqrt(2 * T)).sample(sample_shape=(T,K)) # T x k\n",
        "  D = torch.sqrt(Dirichlet(torch.ones(K) / K).sample(sample_shape=(N,)).T)\n",
        "  A = torch.abs(MultivariateNormal(torch.zeros(N),  precision_matrix=nx_to_laplacian(g, alpha=alpha)).sample(sample_shape=(K, ))) #k x N\n",
        "\n",
        "  # let's make the Lambdas\n",
        "  B = Bernoulli(0.8).sample(sample_shape=(K,))\n",
        "  L = B * Gamma(10,10).sample(sample_shape=(K,))\n",
        "  E = (1 - B) * Exponential(1).sample(sample_shape=(K,))\n",
        "  L = L + E\n",
        "  L = L.sort().values\n",
        "\n",
        "  if mask:\n",
        "    Atilde = torch.diag(L) @ (D * A)\n",
        "  else:\n",
        "    Atilde = torch.diag(L) @ A\n",
        "\n",
        "  Y = Normal(S @ Atilde, sigma).sample() # T x N\n",
        "\n",
        "  return (S,A,D,L)"
      ]
    },
    {
      "cell_type": "code",
      "execution_count": 5,
      "metadata": {
        "id": "lWNZTNleLQPK"
      },
      "outputs": [],
      "source": [
        "def stable_softmax(x):\n",
        "    \"\"\"\n",
        "    Computes the numerically stable softmax of a tensor x on the first dimension.\n",
        "    \"\"\"\n",
        "    max_val, _ = torch.max(x, dim=0, keepdim=True)\n",
        "    x_exp = torch.exp(x - max_val)\n",
        "    x_sum = torch.sum(x_exp, dim=0, keepdim=True)\n",
        "    return x_exp / x_sum\n",
        "def stable_dirichlet(logit_D):\n",
        "    return logit_D.sum()"
      ]
    },
    {
      "cell_type": "code",
      "execution_count": 6,
      "metadata": {
        "id": "dfEHAPHqDvJF"
      },
      "outputs": [],
      "source": [
        "# compute losses\n",
        "# the problem is the log density of the Dirichlet\n",
        "\n",
        "def get_loss(Y, S, log_A, logit_D, log_L, g, sigma=0.01, alpha=0.5, beta=0, mask=True):\n",
        "  T, N = Y.shape\n",
        "  K, _ = log_A.shape\n",
        "  A = torch.exp(log_A)\n",
        "  L = torch.exp(log_L)\n",
        "  if mask:\n",
        "    D = torch.sqrt(stable_softmax(logit_D.T).T)  # D_i^2 is Dirichlet\n",
        "\n",
        "  loss = 0\n",
        "  # priors\n",
        "  loss += -Laplace(0, 1/np.sqrt(2 * T)).log_prob(S).sum()\n",
        "  loss += -MultivariateNormal(torch.zeros(N), precision_matrix=nx_to_laplacian(g, alpha=alpha)).log_prob(A).sum()\n",
        "  if mask:\n",
        "    loss += stable_dirichlet(logit_D)\n",
        "  \n",
        "  # Lambda loss\n",
        "  gam = torch.log(torch.tensor(0.8)) + Gamma(10,10).log_prob(L)\n",
        "  exp = torch.log(torch.tensor(0.2)) + Exponential(1).log_prob(L)\n",
        "  cat = torch.vstack([gam, exp])\n",
        "  loss += -torch.logsumexp(cat, 0).sum()\n",
        "\n",
        "\n",
        "  # likelihood\n",
        "  if mask:\n",
        "    Atilde = A * D\n",
        "    if D.isnan().sum() > 0:\n",
        "      print(\"D is nan\")\n",
        "      print(D)\n",
        "  else:\n",
        "    Atilde = A\n",
        "  loss += -Normal(S @ torch.diag(L) @ Atilde, sigma).log_prob(Y).sum()\n",
        "  # l1 regularization\n",
        "  loss += beta * torch.linalg.norm(A)\n",
        "  return loss / T"
      ]
    },
    {
      "cell_type": "code",
      "execution_count": 7,
      "metadata": {
        "id": "LCtXPqgVFkOo"
      },
      "outputs": [],
      "source": [
        "def map_estimation(Y,\n",
        "                   g,\n",
        "                   K, \n",
        "                   N,\n",
        "                   num_steps=10000,\n",
        "                   alpha=0.5,\n",
        "                   beta=0,\n",
        "                   mask=False,\n",
        "                   random_seed=1,\n",
        "                   tol_steps=1000):\n",
        "  pbar = trange(num_steps)\n",
        "  pbar.set_description(\"---\")\n",
        "  T, N = Y.shape\n",
        "  # intialization\n",
        "  S, A, D, L = initialize_model(K, N, T, g, random_seed=random_seed, mask=mask, alpha=alpha)\n",
        "  S = nn.parameter.Parameter(S)\n",
        "  log_A = nn.parameter.Parameter(torch.log(A))\n",
        "  logit_D = nn.parameter.Parameter(2 * torch.log(D)) #D_i^2 ~ Dirichlet\n",
        "  log_L = nn.parameter.Parameter(torch.log(L))\n",
        "\n",
        "  S_best = S\n",
        "  log_A_best = log_A\n",
        "  logit_D_best = logit_D\n",
        "  log_L_best = log_L\n",
        "  s = 0\n",
        "\n",
        "  best_loss = float('inf')\n",
        "  optimizer = optim.Adam([S,log_A, logit_D, log_L], lr=1e-1)\n",
        "  train_losses = []\n",
        "  for step in pbar:\n",
        "    if step-s > max(tol_steps,s):\n",
        "      break\n",
        "    with torch.set_grad_enabled(True):\n",
        "        optimizer.zero_grad()\n",
        "        loss = get_loss(Y, S, log_A, logit_D, log_L, g, beta=beta, mask=mask)\n",
        "        if loss < best_loss:\n",
        "          s = step\n",
        "          log_L_best = log_L.detach().clone()\n",
        "          sort = log_L_best.sort()\n",
        "          log_L_best = sort.values\n",
        "          idxs = sort.indices\n",
        "\n",
        "          S_best = S.detach().clone()\n",
        "          S_best = S_best[:, idxs]\n",
        "\n",
        "          log_A_best = log_A.detach().clone()\n",
        "          log_A_best = log_A_best[idxs, :]\n",
        "\n",
        "          logit_D_best = logit_D.detach().clone()\n",
        "          logit_D_best = logit_D_best[idxs, :]\n",
        "\n",
        "          best_loss = loss\n",
        "        loss.backward()\n",
        "        optimizer.step()\n",
        "        train_losses.append(loss.detach().numpy())\n",
        "\n",
        "  print(s)\n",
        "  return S_best, torch.exp(log_A_best), torch.sqrt(stable_softmax(logit_D_best)), torch.exp(log_L_best), train_losses"
      ]
    },
    {
      "cell_type": "code",
      "execution_count": 8,
      "metadata": {
        "id": "VSl-QZh9YDDA"
      },
      "outputs": [],
      "source": [
        "def make_stability_mat(A1, L1, D1, A2, L2, D2, ard=False, mask=False):\n",
        "  K, _ = A1.shape\n",
        "  if mask and ard:\n",
        "    A_target = torch.diag(L1) @ (D1 * A1)\n",
        "  elif ~mask and ard:\n",
        "    A_target = torch.diag(L1) @ A1\n",
        "  else:\n",
        "    A_target = A1\n",
        "  return make_recovery_mat(A_target, A2, L2, D2, ard=ard, mask=mask)\n",
        "\n",
        "def make_recovery_mat(A_true, A_est, L_est, D_est, ard=False, mask=False):\n",
        "  K_true, _ = A_true.shape\n",
        "  K_used, _ = A_est.shape\n",
        "  sim = np.zeros((K_true,K_used))\n",
        "  for i in range(K_true):\n",
        "    for j in range(K_used):\n",
        "      if mask and ard:\n",
        "        sim[i,j] = pearsonr(A_true[i], L_est[j] * D_est[j] * A_est[j])[0]\n",
        "      elif ~mask and ard:\n",
        "        sim[i,j] = pearsonr(A_true[i], L_est[j] * A_est[j])[0]\n",
        "      else:\n",
        "        sim[i,j] = pearsonr(A_true[i], A_est[j])[0]\n",
        "  \n",
        "  # just need to reorder the columns of sim according to the Hungarian algorithm\n",
        "  if K_true==K_used:\n",
        "    p = linear_sum_assignment(-sim)[1]\n",
        "    sim = sim[:, p]\n",
        "\n",
        "  return sim"
      ]
    },
    {
      "cell_type": "markdown",
      "metadata": {
        "id": "0A6YpKLxhIoq"
      },
      "source": [
        "## Application Steinmetz"
      ]
    },
    {
      "cell_type": "markdown",
      "metadata": {
        "id": "PmlZZMoXpY9f"
      },
      "source": [
        "### load in Steinmetz data"
      ]
    },
    {
      "cell_type": "code",
      "execution_count": 9,
      "metadata": {
        "id": "E43IX7aD0CFo"
      },
      "outputs": [],
      "source": [
        "import numpy as np\n",
        "import matplotlib.pyplot as plt\n",
        "from scipy.stats import zscore\n",
        "from sklearn.decomposition import PCA\n",
        "import torch"
      ]
    },
    {
      "cell_type": "code",
      "execution_count": 10,
      "metadata": {
        "id": "TXKub8S7-l1T"
      },
      "outputs": [],
      "source": [
        "# @title Figure settings\n",
        "from matplotlib import rcParams\n",
        "\n",
        "rcParams['figure.figsize'] = [20, 4]\n",
        "rcParams['font.size'] = 15\n",
        "rcParams['axes.spines.top'] = False\n",
        "rcParams['axes.spines.right'] = False\n",
        "rcParams['figure.autolayout'] = True"
      ]
    },
    {
      "cell_type": "code",
      "execution_count": 11,
      "metadata": {
        "id": "4DFMpPsI9g4x"
      },
      "outputs": [],
      "source": [
        "# @title Data retrieval\n",
        "import os, requests\n",
        "\n",
        "fname = []\n",
        "for j in range(3):\n",
        "  fname.append('steinmetz_part%d.npz'%j)\n",
        "url = [\"https://osf.io/agvxh/download\"]\n",
        "url.append(\"https://osf.io/uv3mw/download\")\n",
        "url.append(\"https://osf.io/ehmw2/download\")\n",
        "\n",
        "for j in range(len(url)):\n",
        "  if not os.path.isfile(fname[j]):\n",
        "    try:\n",
        "      r = requests.get(url[j])\n",
        "    except requests.ConnectionError:\n",
        "      print(\"!!! Failed to download data !!!\")\n",
        "    else:\n",
        "      if r.status_code != requests.codes.ok:\n",
        "        print(\"!!! Failed to download data !!!\")\n",
        "      else:\n",
        "        with open(fname[j], \"wb\") as fid:\n",
        "          fid.write(r.content)"
      ]
    },
    {
      "cell_type": "code",
      "execution_count": 12,
      "metadata": {
        "id": "313S3yxR9jR9"
      },
      "outputs": [],
      "source": [
        "# @title Data loading\n",
        "alldat = np.array([])\n",
        "for j in range(len(fname)):\n",
        "  alldat = np.hstack((alldat,\n",
        "                      np.load('steinmetz_part%d.npz'%j,\n",
        "                              allow_pickle=True)['dat']))"
      ]
    },
    {
      "cell_type": "code",
      "execution_count": 13,
      "metadata": {
        "id": "OJYpIgb79lUP"
      },
      "outputs": [],
      "source": [
        "# Take a single mouse (the sample notebook takes mouse 11, since it has some neurons from vis_ctx)\n",
        "# The rest of this notebook will just focus on this mouse\n",
        "dat = alldat[11]"
      ]
    },
    {
      "cell_type": "code",
      "execution_count": 14,
      "metadata": {
        "id": "u0yQFJoKALaP"
      },
      "outputs": [],
      "source": [
        "def get_successful_trials(dat): \n",
        "  \"\"\"\n",
        "  Drop the trials where the mouse failed to correctly distinguish the contrast \n",
        "  identification challenge.\n",
        "\n",
        "  This returns the spike data on successful trials.\n",
        "\n",
        "  TODO: might want to wrap this into a whole data cleaning function that returns \n",
        "  the cleaned dat dictionary object instead of just spikes.\n",
        "  \"\"\"\n",
        "  result = np.zeros_like(dat[\"contrast_right\"])\n",
        "  mask1 = dat[\"contrast_right\"] > dat[\"contrast_left\"]\n",
        "  mask2 = dat[\"contrast_left\"] > dat[\"contrast_right\"]\n",
        "  result[mask1] = -1\n",
        "  result[mask2] = 1\n",
        "\n",
        "  success_idx = np.where(result == dat[\"response\"])\n",
        "  success_idx = np.squeeze(success_idx)\n",
        "\n",
        "  return dat[\"spks\"][:, success_idx, :]"
      ]
    },
    {
      "cell_type": "code",
      "execution_count": 15,
      "metadata": {
        "colab": {
          "base_uri": "https://localhost:8080/"
        },
        "id": "jwtX6w1aqnvx",
        "outputId": "0714a75c-6994-4ccc-9ea7-d974c7e54684"
      },
      "outputs": [
        {
          "data": {
            "text/plain": [
              "(698, 236, 250)"
            ]
          },
          "execution_count": 15,
          "metadata": {},
          "output_type": "execute_result"
        }
      ],
      "source": [
        "success_dat = get_successful_trials(dat)\n",
        "success_dat.shape"
      ]
    },
    {
      "cell_type": "code",
      "execution_count": 16,
      "metadata": {
        "id": "vEFfaaErpbd4"
      },
      "outputs": [],
      "source": [
        "steinmetz_adj = pd.read_csv(\"/content/drive/MyDrive/connectome_prior/steinmetz.csv\", dtype=int)\n",
        "\n",
        "G = nx.Graph(steinmetz_adj.values)"
      ]
    },
    {
      "cell_type": "code",
      "execution_count": 17,
      "metadata": {
        "colab": {
          "base_uri": "https://localhost:8080/"
        },
        "id": "udefTh4krjAg",
        "outputId": "d5e53488-19f2-4979-f73b-ddecafcb3a4e"
      },
      "outputs": [
        {
          "data": {
            "text/plain": [
              "(698, 250)"
            ]
          },
          "execution_count": 17,
          "metadata": {},
          "output_type": "execute_result"
        }
      ],
      "source": [
        "Y = success_dat[:, 0, :]\n",
        "Y.shape"
      ]
    },
    {
      "cell_type": "code",
      "execution_count": 18,
      "metadata": {
        "colab": {
          "base_uri": "https://localhost:8080/",
          "height": 304
        },
        "id": "ty6pEIAodCPM",
        "outputId": "fc802e83-b496-442b-d387-009c99bacfdb"
      },
      "outputs": [
        {
          "data": {
            "text/plain": [
              "[<matplotlib.lines.Line2D at 0x7f4824bf7790>]"
            ]
          },
          "execution_count": 18,
          "metadata": {},
          "output_type": "execute_result"
        },
        {
          "data": {
            "image/png": "[encoded data removed]",
            "text/plain": [
              "<Figure size 1440x288 with 1 Axes>"
            ]
          },
          "metadata": {
            "needs_background": "light"
          },
          "output_type": "display_data"
        }
      ],
      "source": [
        "plt.plot(Y[0, :])"
      ]
    },
    {
      "cell_type": "code",
      "execution_count": 19,
      "metadata": {
        "colab": {
          "base_uri": "https://localhost:8080/",
          "height": 304
        },
        "id": "-MJgs8OndIY3",
        "outputId": "75a328fd-5a8b-45d7-9754-04fe53b3c3c8"
      },
      "outputs": [
        {
          "data": {
            "text/plain": [
              "[<matplotlib.lines.Line2D at 0x7f482430c070>]"
            ]
          },
          "execution_count": 19,
          "metadata": {},
          "output_type": "execute_result"
        },
        {
          "data": {
            "image/png": "[encoded data removed]",
            "text/plain": [
              "<Figure size 1440x288 with 1 Axes>"
            ]
          },
          "metadata": {
            "needs_background": "light"
          },
          "output_type": "display_data"
        }
      ],
      "source": [
        "plt.plot(Y[1, :])"
      ]
    },
    {
      "cell_type": "code",
      "execution_count": 20,
      "metadata": {
        "id": "YztC4W83kVze"
      },
      "outputs": [],
      "source": [
        "MASK = False\n",
        "ARD = True\n",
        "N = 698\n",
        "ALPHA = 0.5"
      ]
    },
    {
      "cell_type": "code",
      "execution_count": null,
      "metadata": {
        "colab": {
          "base_uri": "https://localhost:8080/",
          "height": 49,
          "referenced_widgets": [
            "a766338089ac4a7fbb9044e8073bc178",
            "c3180567587742b696ec3bdb9a91f66a",
            "b4759861b7b048dcb29bd2c05c362783",
            "d851175257bc4fdeacfcd34d3e6e49d5",
            "97768fc6c941411a8425e328cfcaa75d",
            "abb63b7c7b9645d9884d43f9d5fcdbd4",
            "02e8792dfc99418dbb1ebb6252f6ed88",
            "9b6c44e17935451da11d650be8bffcdd",
            "dd2490415efd42a3895645262c8aa830",
            "6d827425b1a440abba479a790246b686",
            "8d97c32af0b74a08940fd03621a6a15f"
          ]
        },
        "id": "gnSbkzkdpEqS",
        "outputId": "1f22d6ca-2129-4f2f-bb1c-38013d26edd1"
      },
      "outputs": [
        {
          "data": {
            "application/vnd.jupyter.widget-view+json": {
              "model_id": "a766338089ac4a7fbb9044e8073bc178",
              "version_major": 2,
              "version_minor": 0
            },
            "text/plain": [
              "  0%|          | 0/10000 [00:00<?, ?it/s]"
            ]
          },
          "metadata": {},
          "output_type": "display_data"
        }
      ],
      "source": [
        "K = 10\n",
        "S1_map, A1_map, D1_map, L1_map, train1_losses = map_estimation(torch.tensor(Y.T), G, K, N, mask=MASK, random_seed=1)\n",
        "S2_map, A2_map, D2_map, L2_map, train2_losses = map_estimation(torch.tensor(Y.T), G, K, N, mask=MASK, random_seed=2)"
      ]
    },
    {
      "cell_type": "code",
      "execution_count": null,
      "metadata": {
        "id": "D7a7fQrJeiHw"
      },
      "outputs": [],
      "source": [
        "plt.plot(train1_losses)"
      ]
    },
    {
      "cell_type": "code",
      "execution_count": null,
      "metadata": {
        "id": "Adz1h9IeelnI"
      },
      "outputs": [],
      "source": [
        "plt.plot(train1_losses[-100:])"
      ]
    },
    {
      "cell_type": "code",
      "execution_count": null,
      "metadata": {
        "id": "VS1rbPPupoxQ"
      },
      "outputs": [],
      "source": [
        "sim = make_stability_mat(A1_map, L1_map, D1_map, A2_map, L2_map, D2_map, ard=ARD, mask=MASK)\n",
        "plt.imshow(sim, vmin=0, vmax=1)\n",
        "plt.colorbar()"
      ]
    },
    {
      "cell_type": "code",
      "execution_count": null,
      "metadata": {
        "id": "FS62YLfPhoAA"
      },
      "outputs": [],
      "source": [
        "df_A = pd.DataFrame(torch.diag(L1_map) @ A1_map.numpy())\n",
        "df_A.columns = dat['brain_area']\n",
        "sort_idx = np.argsort(dat['brain_area'])\n",
        "df_A = df_A.iloc[:, sort_idx]\n",
        "fig, axes = plt.subplots(nrows=K, ncols=1, figsize=(10, 20))\n",
        "for i in range(10):\n",
        "  row = df_A.iloc[i, :]\n",
        "  row.plot(ax=axes[i])\n",
        "  axes[i].set_ylim([0,1])\n",
        "  axes[i].set_xticklabels(df_A.columns)\n",
        "plt.show()"
      ]
    }
  ],
  "metadata": {
    "accelerator": "GPU",
    "colab": {
      "provenance": [],
      "toc_visible": true
    },
    "gpuClass": "premium",
    "kernelspec": {
      "display_name": "Python 3",
      "name": "python3"
    },
    "language_info": {
      "name": "python"
    },
    "widgets": {
      "application/vnd.jupyter.widget-state+json": {
        "02e8792dfc99418dbb1ebb6252f6ed88": {
          "model_module": "@jupyter-widgets/controls",
          "model_module_version": "1.5.0",
          "model_name": "DescriptionStyleModel",
          "state": {
            "_model_module": "@jupyter-widgets/controls",
            "_model_module_version": "1.5.0",
            "_model_name": "DescriptionStyleModel",
            "_view_count": null,
            "_view_module": "@jupyter-widgets/base",
            "_view_module_version": "1.2.0",
            "_view_name": "StyleView",
            "description_width": ""
          }
        },
        "6d827425b1a440abba479a790246b686": {
          "model_module": "@jupyter-widgets/base",
          "model_module_version": "1.2.0",
          "model_name": "LayoutModel",
          "state": {
            "_model_module": "@jupyter-widgets/base",
            "_model_module_version": "1.2.0",
            "_model_name": "LayoutModel",
            "_view_count": null,
            "_view_module": "@jupyter-widgets/base",
            "_view_module_version": "1.2.0",
            "_view_name": "LayoutView",
            "align_content": null,
            "align_items": null,
            "align_self": null,
            "border": null,
            "bottom": null,
            "display": null,
            "flex": null,
            "flex_flow": null,
            "grid_area": null,
            "grid_auto_columns": null,
            "grid_auto_flow": null,
            "grid_auto_rows": null,
            "grid_column": null,
            "grid_gap": null,
            "grid_row": null,
            "grid_template_areas": null,
            "grid_template_columns": null,
            "grid_template_rows": null,
            "height": null,
            "justify_content": null,
            "justify_items": null,
            "left": null,
            "margin": null,
            "max_height": null,
            "max_width": null,
            "min_height": null,
            "min_width": null,
            "object_fit": null,
            "object_position": null,
            "order": null,
            "overflow": null,
            "overflow_x": null,
            "overflow_y": null,
            "padding": null,
            "right": null,
            "top": null,
            "visibility": null,
            "width": null
          }
        },
        "8d97c32af0b74a08940fd03621a6a15f": {
          "model_module": "@jupyter-widgets/controls",
          "model_module_version": "1.5.0",
          "model_name": "DescriptionStyleModel",
          "state": {
            "_model_module": "@jupyter-widgets/controls",
            "_model_module_version": "1.5.0",
            "_model_name": "DescriptionStyleModel",
            "_view_count": null,
            "_view_module": "@jupyter-widgets/base",
            "_view_module_version": "1.2.0",
            "_view_name": "StyleView",
            "description_width": ""
          }
        },
        "97768fc6c941411a8425e328cfcaa75d": {
          "model_module": "@jupyter-widgets/base",
          "model_module_version": "1.2.0",
          "model_name": "LayoutModel",
          "state": {
            "_model_module": "@jupyter-widgets/base",
            "_model_module_version": "1.2.0",
            "_model_name": "LayoutModel",
            "_view_count": null,
            "_view_module": "@jupyter-widgets/base",
            "_view_module_version": "1.2.0",
            "_view_name": "LayoutView",
            "align_content": null,
            "align_items": null,
            "align_self": null,
            "border": null,
            "bottom": null,
            "display": null,
            "flex": null,
            "flex_flow": null,
            "grid_area": null,
            "grid_auto_columns": null,
            "grid_auto_flow": null,
            "grid_auto_rows": null,
            "grid_column": null,
            "grid_gap": null,
            "grid_row": null,
            "grid_template_areas": null,
            "grid_template_columns": null,
            "grid_template_rows": null,
            "height": null,
            "justify_content": null,
            "justify_items": null,
            "left": null,
            "margin": null,
            "max_height": null,
            "max_width": null,
            "min_height": null,
            "min_width": null,
            "object_fit": null,
            "object_position": null,
            "order": null,
            "overflow": null,
            "overflow_x": null,
            "overflow_y": null,
            "padding": null,
            "right": null,
            "top": null,
            "visibility": null,
            "width": null
          }
        },
        "9b6c44e17935451da11d650be8bffcdd": {
          "model_module": "@jupyter-widgets/base",
          "model_module_version": "1.2.0",
          "model_name": "LayoutModel",
          "state": {
            "_model_module": "@jupyter-widgets/base",
            "_model_module_version": "1.2.0",
            "_model_name": "LayoutModel",
            "_view_count": null,
            "_view_module": "@jupyter-widgets/base",
            "_view_module_version": "1.2.0",
            "_view_name": "LayoutView",
            "align_content": null,
            "align_items": null,
            "align_self": null,
            "border": null,
            "bottom": null,
            "display": null,
            "flex": null,
            "flex_flow": null,
            "grid_area": null,
            "grid_auto_columns": null,
            "grid_auto_flow": null,
            "grid_auto_rows": null,
            "grid_column": null,
            "grid_gap": null,
            "grid_row": null,
            "grid_template_areas": null,
            "grid_template_columns": null,
            "grid_template_rows": null,
            "height": null,
            "justify_content": null,
            "justify_items": null,
            "left": null,
            "margin": null,
            "max_height": null,
            "max_width": null,
            "min_height": null,
            "min_width": null,
            "object_fit": null,
            "object_position": null,
            "order": null,
            "overflow": null,
            "overflow_x": null,
            "overflow_y": null,
            "padding": null,
            "right": null,
            "top": null,
            "visibility": null,
            "width": null
          }
        },
        "a766338089ac4a7fbb9044e8073bc178": {
          "model_module": "@jupyter-widgets/controls",
          "model_module_version": "1.5.0",
          "model_name": "HBoxModel",
          "state": {
            "_dom_classes": [],
            "_model_module": "@jupyter-widgets/controls",
            "_model_module_version": "1.5.0",
            "_model_name": "HBoxModel",
            "_view_count": null,
            "_view_module": "@jupyter-widgets/controls",
            "_view_module_version": "1.5.0",
            "_view_name": "HBoxView",
            "box_style": "",
            "children": [
              "IPY_MODEL_c3180567587742b696ec3bdb9a91f66a",
              "IPY_MODEL_b4759861b7b048dcb29bd2c05c362783",
              "IPY_MODEL_d851175257bc4fdeacfcd34d3e6e49d5"
            ],
            "layout": "IPY_MODEL_97768fc6c941411a8425e328cfcaa75d"
          }
        },
        "abb63b7c7b9645d9884d43f9d5fcdbd4": {
          "model_module": "@jupyter-widgets/base",
          "model_module_version": "1.2.0",
          "model_name": "LayoutModel",
          "state": {
            "_model_module": "@jupyter-widgets/base",
            "_model_module_version": "1.2.0",
            "_model_name": "LayoutModel",
            "_view_count": null,
            "_view_module": "@jupyter-widgets/base",
            "_view_module_version": "1.2.0",
            "_view_name": "LayoutView",
            "align_content": null,
            "align_items": null,
            "align_self": null,
            "border": null,
            "bottom": null,
            "display": null,
            "flex": null,
            "flex_flow": null,
            "grid_area": null,
            "grid_auto_columns": null,
            "grid_auto_flow": null,
            "grid_auto_rows": null,
            "grid_column": null,
            "grid_gap": null,
            "grid_row": null,
            "grid_template_areas": null,
            "grid_template_columns": null,
            "grid_template_rows": null,
            "height": null,
            "justify_content": null,
            "justify_items": null,
            "left": null,
            "margin": null,
            "max_height": null,
            "max_width": null,
            "min_height": null,
            "min_width": null,
            "object_fit": null,
            "object_position": null,
            "order": null,
            "overflow": null,
            "overflow_x": null,
            "overflow_y": null,
            "padding": null,
            "right": null,
            "top": null,
            "visibility": null,
            "width": null
          }
        },
        "b4759861b7b048dcb29bd2c05c362783": {
          "model_module": "@jupyter-widgets/controls",
          "model_module_version": "1.5.0",
          "model_name": "FloatProgressModel",
          "state": {
            "_dom_classes": [],
            "_model_module": "@jupyter-widgets/controls",
            "_model_module_version": "1.5.0",
            "_model_name": "FloatProgressModel",
            "_view_count": null,
            "_view_module": "@jupyter-widgets/controls",
            "_view_module_version": "1.5.0",
            "_view_name": "ProgressView",
            "bar_style": "",
            "description": "",
            "description_tooltip": null,
            "layout": "IPY_MODEL_9b6c44e17935451da11d650be8bffcdd",
            "max": 10000,
            "min": 0,
            "orientation": "horizontal",
            "style": "IPY_MODEL_dd2490415efd42a3895645262c8aa830",
            "value": 3202
          }
        },
        "c3180567587742b696ec3bdb9a91f66a": {
          "model_module": "@jupyter-widgets/controls",
          "model_module_version": "1.5.0",
          "model_name": "HTMLModel",
          "state": {
            "_dom_classes": [],
            "_model_module": "@jupyter-widgets/controls",
            "_model_module_version": "1.5.0",
            "_model_name": "HTMLModel",
            "_view_count": null,
            "_view_module": "@jupyter-widgets/controls",
            "_view_module_version": "1.5.0",
            "_view_name": "HTMLView",
            "description": "",
            "description_tooltip": null,
            "layout": "IPY_MODEL_abb63b7c7b9645d9884d43f9d5fcdbd4",
            "placeholder": "​",
            "style": "IPY_MODEL_02e8792dfc99418dbb1ebb6252f6ed88",
            "value": "---:  32%"
          }
        },
        "d851175257bc4fdeacfcd34d3e6e49d5": {
          "model_module": "@jupyter-widgets/controls",
          "model_module_version": "1.5.0",
          "model_name": "HTMLModel",
          "state": {
            "_dom_classes": [],
            "_model_module": "@jupyter-widgets/controls",
            "_model_module_version": "1.5.0",
            "_model_name": "HTMLModel",
            "_view_count": null,
            "_view_module": "@jupyter-widgets/controls",
            "_view_module_version": "1.5.0",
            "_view_name": "HTMLView",
            "description": "",
            "description_tooltip": null,
            "layout": "IPY_MODEL_6d827425b1a440abba479a790246b686",
            "placeholder": "​",
            "style": "IPY_MODEL_8d97c32af0b74a08940fd03621a6a15f",
            "value": " 3202/10000 [07:59&lt;16:52,  6.72it/s]"
          }
        },
        "dd2490415efd42a3895645262c8aa830": {
          "model_module": "@jupyter-widgets/controls",
          "model_module_version": "1.5.0",
          "model_name": "ProgressStyleModel",
          "state": {
            "_model_module": "@jupyter-widgets/controls",
            "_model_module_version": "1.5.0",
            "_model_name": "ProgressStyleModel",
            "_view_count": null,
            "_view_module": "@jupyter-widgets/base",
            "_view_module_version": "1.2.0",
            "_view_name": "StyleView",
            "bar_color": null,
            "description_width": ""
          }
        }
      }
    }
  },
  "nbformat": 4,
  "nbformat_minor": 0
}
