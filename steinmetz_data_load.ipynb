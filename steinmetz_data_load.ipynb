{
  "cells": [
    {
      "cell_type": "code",
      "execution_count": null,
      "metadata": {
        "id": "E43IX7aD0CFo"
      },
      "outputs": [],
      "source": [
        "import numpy as np\n",
        "import matplotlib.pyplot as plt\n",
        "from scipy.stats import zscore\n",
        "from sklearn.decomposition import PCA\n",
        "import torch"
      ]
    },
    {
      "cell_type": "code",
      "execution_count": null,
      "metadata": {
        "id": "TXKub8S7-l1T"
      },
      "outputs": [],
      "source": [
        "# @title Figure settings\n",
        "from matplotlib import rcParams\n",
        "\n",
        "rcParams['figure.figsize'] = [20, 4]\n",
        "rcParams['font.size'] = 15\n",
        "rcParams['axes.spines.top'] = False\n",
        "rcParams['axes.spines.right'] = False\n",
        "rcParams['figure.autolayout'] = True"
      ]
    },
    {
      "cell_type": "code",
      "execution_count": null,
      "metadata": {
        "id": "4DFMpPsI9g4x"
      },
      "outputs": [],
      "source": [
        "# @title Data retrieval\n",
        "import os, requests\n",
        "\n",
        "fname = []\n",
        "for j in range(3):\n",
        "  fname.append('steinmetz_part%d.npz'%j)\n",
        "url = [\"https://osf.io/agvxh/download\"]\n",
        "url.append(\"https://osf.io/uv3mw/download\")\n",
        "url.append(\"https://osf.io/ehmw2/download\")\n",
        "\n",
        "for j in range(len(url)):\n",
        "  if not os.path.isfile(fname[j]):\n",
        "    try:\n",
        "      r = requests.get(url[j])\n",
        "    except requests.ConnectionError:\n",
        "      print(\"!!! Failed to download data !!!\")\n",
        "    else:\n",
        "      if r.status_code != requests.codes.ok:\n",
        "        print(\"!!! Failed to download data !!!\")\n",
        "      else:\n",
        "        with open(fname[j], \"wb\") as fid:\n",
        "          fid.write(r.content)"
      ]
    },
    {
      "cell_type": "code",
      "execution_count": null,
      "metadata": {
        "colab": {
          "background_save": true
        },
        "id": "313S3yxR9jR9"
      },
      "outputs": [],
      "source": [
        "# @title Data loading\n",
        "alldat = np.array([])\n",
        "for j in range(len(fname)):\n",
        "  alldat = np.hstack((alldat,\n",
        "                      np.load('steinmetz_part%d.npz'%j,\n",
        "                              allow_pickle=True)['dat']))"
      ]
    },
    {
      "cell_type": "code",
      "execution_count": null,
      "metadata": {
        "colab": {
          "background_save": true
        },
        "id": "OJYpIgb79lUP"
      },
      "outputs": [],
      "source": [
        "# Take a single mouse (the sample notebook takes mouse 11, since it has some neurons from vis_ctx)\n",
        "# The rest of this notebook will just focus on this mouse\n",
        "dat = alldat[11]"
      ]
    },
    {
      "cell_type": "code",
      "execution_count": null,
      "metadata": {
        "colab": {
          "background_save": true
        },
        "id": "eueVWaEI5LGO",
        "outputId": "1758f893-69ef-411e-ff29-0c348db155fd"
      },
      "outputs": [
        {
          "data": {
            "text/plain": [
              "(698, 340, 250)"
            ]
          },
          "execution_count": 6,
          "metadata": {},
          "output_type": "execute_result"
        }
      ],
      "source": [
        "# Data is neurons x trials x time bins\n",
        "dat[\"spks\"].shape"
      ]
    },
    {
      "cell_type": "code",
      "execution_count": null,
      "metadata": {
        "colab": {
          "background_save": true
        },
        "id": "u0yQFJoKALaP"
      },
      "outputs": [],
      "source": [
        "def get_successful_trials(dat): \n",
        "  \"\"\"\n",
        "  Drop the trials where the mouse failed to correctly distinguish the contrast \n",
        "  identification challenge.\n",
        "\n",
        "  This returns the spike data on successful trials.\n",
        "\n",
        "  TODO: might want to wrap this into a whole data cleaning function that returns \n",
        "  the cleaned dat dictionary object instead of just spikes.\n",
        "  \"\"\"\n",
        "  result = np.zeros_like(dat[\"contrast_right\"])\n",
        "  mask1 = dat[\"contrast_right\"] > dat[\"contrast_left\"]\n",
        "  mask2 = dat[\"contrast_left\"] > dat[\"contrast_right\"]\n",
        "  result[mask1] = -1\n",
        "  result[mask2] = 1\n",
        "\n",
        "  success_idx = np.where(result == dat[\"response\"])\n",
        "  success_idx = np.squeeze(success_idx)\n",
        "\n",
        "  return dat[\"spks\"][:, success_idx, :]\n",
        "\n"
      ]
    },
    {
      "cell_type": "code",
      "execution_count": null,
      "metadata": {
        "id": "K5qftfcaAxyQ"
      },
      "outputs": [],
      "source": [
        "success_dat = get_successful_trials(dat)"
      ]
    },
    {
      "cell_type": "code",
      "execution_count": null,
      "metadata": {
        "colab": {
          "base_uri": "https://localhost:8080/"
        },
        "id": "lpHTJI5KA13d",
        "outputId": "80e67071-8b14-4f9b-e4d2-73bea29b9a52"
      },
      "outputs": [
        {
          "data": {
            "text/plain": [
              "(698, 236, 250)"
            ]
          },
          "execution_count": 9,
          "metadata": {},
          "output_type": "execute_result"
        }
      ],
      "source": [
        "success_dat.shape"
      ]
    },
    {
      "cell_type": "code",
      "execution_count": null,
      "metadata": {
        "colab": {
          "base_uri": "https://localhost:8080/"
        },
        "id": "If9EG9C-gck7",
        "outputId": "2101e486-aa0f-4dba-a6ff-49949b6c0e14"
      },
      "outputs": [
        {
          "data": {
            "text/plain": [
              "array([[9069.9, 1103.5, 3854.3],\n",
              "       [8919.6, 1380.7, 3799.6],\n",
              "       [9096.6, 1034.3, 3898.1],\n",
              "       ...,\n",
              "       [7338.8,  477.3, 4027.2],\n",
              "       [7073.6, 1361. , 4292.5],\n",
              "       [6410.5, 3570.2, 4955.6]])"
            ]
          },
          "execution_count": 10,
          "metadata": {},
          "output_type": "execute_result"
        }
      ],
      "source": [
        "dat[\"ccf\"]"
      ]
    },
    {
      "cell_type": "code",
      "execution_count": null,
      "metadata": {
        "colab": {
          "base_uri": "https://localhost:8080/"
        },
        "id": "NT0ZE6Qjihpt",
        "outputId": "3a1d434e-6d22-4f72-94e7-f8f563e61468"
      },
      "outputs": [
        {
          "data": {
            "text/plain": [
              "(698, 698)"
            ]
          },
          "execution_count": 11,
          "metadata": {},
          "output_type": "execute_result"
        }
      ],
      "source": [
        "from scipy.spatial.distance import cdist\n",
        "\n",
        "# calculate pairwise Euclidean distances\n",
        "distances = cdist(dat[\"ccf\"], dat[\"ccf\"], 'euclidean')\n",
        "\n",
        "# print the distances\n",
        "distances.shape"
      ]
    },
    {
      "cell_type": "code",
      "execution_count": null,
      "metadata": {
        "id": "MiiguY6eislM"
      },
      "outputs": [],
      "source": [
        " q_alpha = np.quantile(distances, 0.05)"
      ]
    },
    {
      "cell_type": "code",
      "execution_count": null,
      "metadata": {
        "colab": {
          "base_uri": "https://localhost:8080/"
        },
        "id": "8M36S-5qi11z",
        "outputId": "3f9d14e6-ea13-43c6-ff8d-ff818125406b"
      },
      "outputs": [
        {
          "data": {
            "text/plain": [
              "6320.776924556031"
            ]
          },
          "execution_count": 17,
          "metadata": {},
          "output_type": "execute_result"
        }
      ],
      "source": [
        " np.quantile(distances, 0.95)"
      ]
    },
    {
      "cell_type": "code",
      "execution_count": null,
      "metadata": {
        "colab": {
          "base_uri": "https://localhost:8080/"
        },
        "id": "pzCYug7ijUh3",
        "outputId": "252fc49a-699f-4407-f028-5099fb9f2677"
      },
      "outputs": [
        {
          "data": {
            "text/plain": [
              "array(['ACA', 'CA1', 'DG', 'LGd', 'LH', 'MD', 'MOs', 'PL', 'SUB', 'VISam',\n",
              "       'VISp', 'root'], dtype='<U5')"
            ]
          },
          "execution_count": 18,
          "metadata": {},
          "output_type": "execute_result"
        }
      ],
      "source": [
        "np.unique(dat['brain_area'])"
      ]
    },
    {
      "cell_type": "code",
      "execution_count": null,
      "metadata": {
        "colab": {
          "base_uri": "https://localhost:8080/"
        },
        "id": "QspxePHcg5fK",
        "outputId": "1eff94d6-8d25-4d71-bec3-2c0fee67502d"
      },
      "outputs": [
        {
          "data": {
            "text/plain": [
              "True"
            ]
          },
          "execution_count": 37,
          "metadata": {},
          "output_type": "execute_result"
        }
      ],
      "source": [
        "q_alpha = np.quantile(distances, 0.545)\n",
        "adj_mat = np.zeros((698, 698))\n",
        "for i in range(698):\n",
        "  for j in range(698):\n",
        "    adj_mat[i,j] = int(((dat['brain_area'][i] == dat['brain_area'][j]) or (distances[i,j] < q_alpha)) and (i != j))\n",
        "G = nx.Graph(adj_mat)\n",
        "nx.is_connected(G)"
      ]
    },
    {
      "cell_type": "code",
      "execution_count": null,
      "metadata": {
        "colab": {
          "base_uri": "https://localhost:8080/"
        },
        "id": "3-K1EdaXnKvZ",
        "outputId": "601a01bd-ffaf-43ca-9439-15a4f71a7090"
      },
      "outputs": [
        {
          "data": {
            "text/plain": [
              "array([[0., 1., 1., ..., 1., 1., 0.],\n",
              "       [1., 0., 1., ..., 1., 1., 0.],\n",
              "       [1., 1., 0., ..., 1., 1., 0.],\n",
              "       ...,\n",
              "       [1., 1., 1., ..., 0., 1., 0.],\n",
              "       [1., 1., 1., ..., 1., 0., 1.],\n",
              "       [0., 0., 0., ..., 0., 1., 0.]])"
            ]
          },
          "execution_count": 38,
          "metadata": {},
          "output_type": "execute_result"
        }
      ],
      "source": [
        "adj_mat"
      ]
    },
    {
      "cell_type": "code",
      "execution_count": null,
      "metadata": {
        "id": "1xwU7K23n3RJ"
      },
      "outputs": [],
      "source": [
        "import pandas as pd\n",
        "DF = pd.DataFrame(adj_mat)\n",
        " \n",
        "# save the dataframe as a csv file\n",
        "DF.to_csv(\"steinmetz.csv\", index=None)"
      ]
    },
    {
      "cell_type": "code",
      "execution_count": null,
      "metadata": {
        "colab": {
          "base_uri": "https://localhost:8080/",
          "height": 355
        },
        "id": "htTjF0_9ho2Y",
        "outputId": "0e28c46e-aa61-42ab-e0dc-361d97085ee7"
      },
      "outputs": [
        {
          "name": "stderr",
          "output_type": "stream",
          "text": [
            "/usr/local/lib/python3.9/dist-packages/IPython/core/pylabtools.py:128: UserWarning: This figure includes Axes that are not compatible with tight_layout, so results might be incorrect.\n",
            "  fig.canvas.print_figure(bytes_io, **kw)\n"
          ]
        },
        {
          "data": {
            "image/png": "[encoded data removed]",
            "text/plain": [
              "<Figure size 1440x288 with 1 Axes>"
            ]
          },
          "metadata": {},
          "output_type": "display_data"
        }
      ],
      "source": [
        "pos = nx.spring_layout(G)\n",
        "\n",
        "# Plot the graph using NetworkX and Matplotlib\n",
        "nx.draw(G, pos=pos, with_labels=False)\n",
        "plt.show()"
      ]
    }
  ],
  "metadata": {
    "colab": {
      "provenance": []
    },
    "kernelspec": {
      "display_name": "Python 3",
      "name": "python3"
    },
    "language_info": {
      "name": "python"
    }
  },
  "nbformat": 4,
  "nbformat_minor": 0
}
